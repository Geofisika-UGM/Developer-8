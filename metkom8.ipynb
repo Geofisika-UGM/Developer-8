{
 "cells": [
  {
   "cell_type": "code",
   "execution_count": null,
   "metadata": {},
   "outputs": [],
   "source": [
    "#KONVOLUSI\n",
    "\n",
    "#import Modul\n",
    "import modulbuatan as mb\n",
    "import numpy as np\n",
    "\n",
    "r = mb.koefisien_refleksi([8,8],[2,3])\n",
    "w = mb.wavelet(10,10)\n",
    "N = w.size\n",
    "M = r.size\n",
    "y = np.zeros(N+M-1)\n",
    "for i in range(0,N+M-1): #blok konvolusi\n",
    "    i1 = i;\n",
    "    tmp = 0.0;\n",
    "    for j in range(0,M-1):\n",
    "        if (i1>=0 and i1<N):\n",
    "            tmp = tmp+w[i1]*r[j];\n",
    "        i1 = i1-1\n",
    "        y[i] = tmp"
   ]
  }
 ],
 "metadata": {
  "kernelspec": {
   "display_name": "Python 3.10.8 64-bit (microsoft store)",
   "language": "python",
   "name": "python3"
  },
  "language_info": {
   "name": "python",
   "version": "3.10.8"
  },
  "orig_nbformat": 4,
  "vscode": {
   "interpreter": {
    "hash": "adb14aadf33e36b33488cdf9680e69c36ab3ab021c97180c1ac69250482f81c3"
   }
  }
 },
 "nbformat": 4,
 "nbformat_minor": 2
}
