{
 "cells": [
  {
   "cell_type": "code",
   "execution_count": 2,
   "metadata": {},
   "outputs": [
    {
     "ename": "NameError",
     "evalue": "name 'wavelet' is not defined",
     "output_type": "error",
     "traceback": [
      "\u001b[1;31m---------------------------------------------------------------------------\u001b[0m",
      "\u001b[1;31mNameError\u001b[0m                                 Traceback (most recent call last)",
      "Cell \u001b[1;32mIn [2], line 52\u001b[0m\n\u001b[0;32m     48\u001b[0m         twti[di] \u001b[39m=\u001b[39m twttop[i\u001b[39m-\u001b[39m\u001b[39m1\u001b[39m]\n\u001b[0;32m     50\u001b[0m t  \u001b[39m=\u001b[39m \u001b[39m2.0\u001b[39m\u001b[39m*\u001b[39mdpth\u001b[39m/\u001b[39mvlog \u001b[39m+\u001b[39m twti\n\u001b[1;32m---> 52\u001b[0m wav \u001b[39m=\u001b[39m {\u001b[39m'\u001b[39m\u001b[39mRICKER\u001b[39m\u001b[39m'\u001b[39m:wavelet}[wavtyp](wavf,twav)\n\u001b[0;32m     53\u001b[0m \u001b[39m# Make wavelet\u001b[39;00m\n\u001b[0;32m     54\u001b[0m \u001b[39m# Wavelet type and Frequency (Hz):\u001b[39;00m\n\u001b[0;32m     55\u001b[0m wavtyp \u001b[39m=\u001b[39m \u001b[39m'\u001b[39m\u001b[39mRICKER\u001b[39m\u001b[39m'\u001b[39m\n",
      "\u001b[1;31mNameError\u001b[0m: name 'wavelet' is not defined"
     ]
    }
   ],
   "source": [
    "#Import Modul\n",
    "import numpy as np\n",
    "import matplotlib.pyplot as plt\n",
    "import modulbuatan as mb\n",
    "\n",
    "v   = np.array([350, 1000, 2000])\n",
    "rho = np.array([1700,2000,2500])\n",
    "d = np.array([0,100,200])\n",
    " \n",
    "v, rho, d = np.array(v, dtype=float), np.array(rho, dtype=float), np.array(d, dtype=float)\n",
    "usingT = False\n",
    "nlayer = len(v) # number of layers\n",
    "\n",
    "assert len(rho) == nlayer, 'Number of layer densities must match number of layer velocities'\n",
    "assert len(d)   == nlayer, 'Number of layer tops must match the number of layer velocities'\n",
    "\n",
    "Z   = rho*v                       # acoustic impedance\n",
    "R   = np.diff(Z)/(Z[:-1] + Z[1:]) # reflection coefficients\n",
    "twttop  = 2*d[1:]/v[:-1]\n",
    "twttop  = np.cumsum(twttop)\n",
    "\n",
    "resolution = 100 \n",
    "dpth   = np.linspace(0,np.max(d)+np.max(np.diff(d)),resolution)\n",
    "nd     = len(dpth)\n",
    "\n",
    "rholog  = np.zeros(nd)\n",
    "vlog    = np.zeros(nd)\n",
    "zlog    = np.zeros(nd)\n",
    "rseries = np.zeros(nd)\n",
    "twti    = np.zeros(nd)\n",
    "\n",
    "for i in range(nlayer):\n",
    "    di         = (dpth >= d[i])\n",
    "    rholog[di] = rho[i]\n",
    "    vlog[di]   = v[i]\n",
    "    zlog[di]   = Z[i]\n",
    "    if i < nlayer-1:\n",
    "        di  = np.logical_and(di, dpth < d[i+1])\n",
    "        ir = np.arange(resolution)[di][-1:][0] #find(di, 1, 'last' )\n",
    "        if usingT:\n",
    "            if i == 0:\n",
    "                rseries[ir] = R[i]\n",
    "            else:\n",
    "                rseries[ir] = R[i]*np.prod(1-R[i-1]**2)\n",
    "        else:\n",
    "            rseries[ir] = R[i]\n",
    "    if i > 0:\n",
    "        twti[di] = twttop[i-1]\n",
    "\n",
    "t  = 2.0*dpth/vlog + twti\n",
    "\n",
    "wav = {'RICKER':wavelet}[wavtyp](wavf,twav)\n",
    "# Make wavelet\n",
    "# Wavelet type and Frequency (Hz):\n",
    "wavtyp = 'RICKER'\n",
    "wavf   = np.array([10])\n",
    "dtwav  = np.abs(np.min(np.diff(t)))\n",
    "twav   = np.arange(-2.0/np.min(wavf), 2.0/np.min(wavf), dtwav)\n",
    "\n",
    "# create synthetic seismogram\n",
    "tseis = np.arange(0,np.max(t),dtwav) + np.min(twav)\n",
    "tr    = t[np.abs(rseries) > 0]\n",
    "rseriesconv = np.zeros(len(tseis))\n",
    "for i in range(len(tr)):\n",
    "    index = np.abs(tseis - tr[i]).argmin()\n",
    "    rseriesconv[index] = R[i]\n",
    "\n",
    "seis = np.convolve(wav,rseriesconv)\n",
    "tseis = np.min(twav)+dtwav*np.arange(len(seis))\n",
    "index = np.logical_and(tseis >= 0, tseis <= np.max(t))\n",
    "tseis = tseis[index]\n",
    "seis  = seis[index]\n",
    "\n",
    "#Plotting Graph\n",
    "plt.subplot(133)\n",
    "plt.plot(seis,tseis,linewidth=2)\n",
    "plt.title(\"GAKKK TAAUUUU\")\n",
    "plt.grid()\n",
    "plt.show()"
   ]
  },
  {
   "cell_type": "code",
   "execution_count": null,
   "metadata": {},
   "outputs": [],
   "source": []
  }
 ],
 "metadata": {
  "kernelspec": {
   "display_name": "Python 3.10.8 64-bit (microsoft store)",
   "language": "python",
   "name": "python3"
  },
  "language_info": {
   "codemirror_mode": {
    "name": "ipython",
    "version": 3
   },
   "file_extension": ".py",
   "mimetype": "text/x-python",
   "name": "python",
   "nbconvert_exporter": "python",
   "pygments_lexer": "ipython3",
   "version": "3.10.8"
  },
  "orig_nbformat": 4,
  "vscode": {
   "interpreter": {
    "hash": "adb14aadf33e36b33488cdf9680e69c36ab3ab021c97180c1ac69250482f81c3"
   }
  }
 },
 "nbformat": 4,
 "nbformat_minor": 2
}
