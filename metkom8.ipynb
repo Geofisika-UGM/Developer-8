{
 "cells": [
  {
   "cell_type": "code",
   "execution_count": null,
   "metadata": {},
   "outputs": [],
   "source": []
  }
 ],
 "metadata": {
  "kernelspec": {
   "display_name": "Python 3.10.7 64-bit (microsoft store)",
   "language": "python",
   "name": "python3"
  },
  "language_info": {
   "name": "python",
   "version": "3.10.7"
  },
  "orig_nbformat": 4,
  "vscode": {
   "interpreter": {
    "hash": "4fbc0d947eaf72472870e97615f0a91e96587ef360d5dee6574c34fa65f37b07"
   }
  }
 },
 "nbformat": 4,
 "nbformat_minor": 2
}
